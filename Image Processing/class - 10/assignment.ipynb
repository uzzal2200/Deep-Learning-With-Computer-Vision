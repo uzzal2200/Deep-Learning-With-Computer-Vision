{
 "cells": [
  {
   "cell_type": "markdown",
   "metadata": {},
   "source": [
    "MT:\n",
    "1. Combine the vertical and horizontal filtered images from Sobel filtering"
   ]
  }
 ],
 "metadata": {
  "language_info": {
   "name": "python"
  }
 },
 "nbformat": 4,
 "nbformat_minor": 2
}
