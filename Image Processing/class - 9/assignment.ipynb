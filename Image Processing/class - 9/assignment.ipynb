{
 "cells": [
  {
   "cell_type": "markdown",
   "metadata": {},
   "source": [
    "1. Explain sigma color and sigma space from the cv2.bilateralFilter()\n",
    "2. How bilateral filtering calculates the target pixel value"
   ]
  }
 ],
 "metadata": {
  "language_info": {
   "name": "python"
  }
 },
 "nbformat": 4,
 "nbformat_minor": 2
}
